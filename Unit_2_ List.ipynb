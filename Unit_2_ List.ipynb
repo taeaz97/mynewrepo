{
 "cells": [
  {
   "cell_type": "code",
   "execution_count": 1,
   "id": "77a6dccf",
   "metadata": {},
   "outputs": [
    {
     "data": {
      "text/plain": [
       "'red'"
      ]
     },
     "execution_count": 1,
     "metadata": {},
     "output_type": "execute_result"
    }
   ],
   "source": [
    "# list, heterogenous cuz can consist of various type \n",
    "# list counting starts from '0'\n",
    "colors = [\"red\", \"blue\", \"green\"]\n",
    "my_list = [ 1,2,45,67,89]\n",
    "multi_list = [\"red\",1,4, \"green\",5.6 ]\n",
    "#example \n",
    "multi_list[0]"
   ]
  },
  {
   "cell_type": "code",
   "execution_count": 2,
   "id": "942c5d57",
   "metadata": {},
   "outputs": [
    {
     "data": {
      "text/plain": [
       "'Azfar'"
      ]
     },
     "execution_count": 2,
     "metadata": {},
     "output_type": "execute_result"
    }
   ],
   "source": [
    "#Exercise 1\n",
    "list_names = [\"Wan\", \"Muhammad\", \"Azfar\"]\n",
    "list_names[2]"
   ]
  },
  {
   "cell_type": "code",
   "execution_count": 3,
   "id": "0666a378",
   "metadata": {},
   "outputs": [
    {
     "data": {
      "text/plain": [
       "2"
      ]
     },
     "execution_count": 3,
     "metadata": {},
     "output_type": "execute_result"
    }
   ],
   "source": [
    "#Exercise 1\n",
    "list_nums = [2,4,6,8]\n",
    "list_nums[0]"
   ]
  },
  {
   "cell_type": "code",
   "execution_count": 4,
   "id": "17e9b87d",
   "metadata": {},
   "outputs": [
    {
     "data": {
      "text/plain": [
       "4"
      ]
     },
     "execution_count": 4,
     "metadata": {},
     "output_type": "execute_result"
    }
   ],
   "source": [
    "#len, how many elements in the list\n",
    "len(list_nums)"
   ]
  },
  {
   "cell_type": "code",
   "execution_count": 5,
   "id": "d1a82d0e",
   "metadata": {},
   "outputs": [
    {
     "data": {
      "text/plain": [
       "3"
      ]
     },
     "execution_count": 5,
     "metadata": {},
     "output_type": "execute_result"
    }
   ],
   "source": [
    "len(list_names)"
   ]
  },
  {
   "cell_type": "code",
   "execution_count": 9,
   "id": "c7364720",
   "metadata": {},
   "outputs": [
    {
     "data": {
      "text/plain": [
       "[13, 2, 4, 6, 8, 10, 10, 10]"
      ]
     },
     "execution_count": 9,
     "metadata": {},
     "output_type": "execute_result"
    }
   ],
   "source": [
    "#adding items into the list\n",
    "#using append/ \".append\" , the number will be at the last\n",
    "list_nums.append(10)\n",
    "list_nums"
   ]
  },
  {
   "cell_type": "code",
   "execution_count": 8,
   "id": "8b7fb2d3",
   "metadata": {},
   "outputs": [
    {
     "data": {
      "text/plain": [
       "[13, 2, 4, 6, 8, 10, 10]"
      ]
     },
     "execution_count": 8,
     "metadata": {},
     "output_type": "execute_result"
    }
   ],
   "source": [
    "#using insert to append number with the position or index\n",
    "list_nums.insert(0,13)\n",
    "list_nums"
   ]
  },
  {
   "cell_type": "code",
   "execution_count": 10,
   "id": "67712a83",
   "metadata": {},
   "outputs": [
    {
     "data": {
      "text/plain": [
       "[13, 2, 4, 6, 8, 10, 10]"
      ]
     },
     "execution_count": 10,
     "metadata": {},
     "output_type": "execute_result"
    }
   ],
   "source": [
    "#remove element from the list\n",
    "# if no value ni (), the last number will be popped out\n",
    "list_nums.pop()\n",
    "list_nums"
   ]
  },
  {
   "cell_type": "code",
   "execution_count": 11,
   "id": "39a5c8e2",
   "metadata": {},
   "outputs": [
    {
     "data": {
      "text/plain": [
       "[13, 2, 4, 6, 8, 10]"
      ]
     },
     "execution_count": 11,
     "metadata": {},
     "output_type": "execute_result"
    }
   ],
   "source": [
    "list_nums.pop()\n",
    "list_nums"
   ]
  },
  {
   "cell_type": "code",
   "execution_count": 13,
   "id": "c7e1db05",
   "metadata": {},
   "outputs": [
    {
     "data": {
      "text/plain": [
       "[13, 2, 4, 6, 8]"
      ]
     },
     "execution_count": 13,
     "metadata": {},
     "output_type": "execute_result"
    }
   ],
   "source": [
    "list_nums.pop(5)\n",
    "list_nums"
   ]
  },
  {
   "cell_type": "code",
   "execution_count": 27,
   "id": "2e3052a1",
   "metadata": {},
   "outputs": [
    {
     "name": "stdout",
     "output_type": "stream",
     "text": [
      "['Wan', 'Muhammad', 'Azfar', 'Nizam', 'Adib']\n"
     ]
    }
   ],
   "source": [
    "#Exercise 2\n",
    "# 1. Declare a list with the names of your classmates\n",
    "# 2. Print out the length of that list\n",
    "# 3. Print the 3rd name on the list\n",
    "# 4. Delete the first name on the list\n",
    "# 5. Re-add the name you deleted to the end of the list\n",
    "\n",
    "names = [\"Wan\", \"Muhammad\", \"Azfar\", \"Nizam\" , \"Adib\"]\n",
    "print (names)"
   ]
  },
  {
   "cell_type": "code",
   "execution_count": 28,
   "id": "8e48eb5b",
   "metadata": {},
   "outputs": [
    {
     "name": "stdout",
     "output_type": "stream",
     "text": [
      "['Wan', 'Muhammad', 'Azfar', 'Nizam', 'Adib']\n"
     ]
    }
   ],
   "source": [
    "print(names)"
   ]
  },
  {
   "cell_type": "code",
   "execution_count": 29,
   "id": "c6f9b461",
   "metadata": {},
   "outputs": [
    {
     "name": "stdout",
     "output_type": "stream",
     "text": [
      "Azfar\n"
     ]
    }
   ],
   "source": [
    "print(names[2])"
   ]
  },
  {
   "cell_type": "code",
   "execution_count": 30,
   "id": "3abeebb3",
   "metadata": {},
   "outputs": [
    {
     "data": {
      "text/plain": [
       "['Muhammad', 'Azfar', 'Nizam', 'Adib']"
      ]
     },
     "execution_count": 30,
     "metadata": {},
     "output_type": "execute_result"
    }
   ],
   "source": [
    "names.pop(0)\n",
    "names"
   ]
  },
  {
   "cell_type": "code",
   "execution_count": 31,
   "id": "88521097",
   "metadata": {},
   "outputs": [
    {
     "data": {
      "text/plain": [
       "['Muhammad', 'Azfar', 'Nizam', 'Adib', 'Wan']"
      ]
     },
     "execution_count": 31,
     "metadata": {},
     "output_type": "execute_result"
    }
   ],
   "source": [
    "names.append(\"Wan\")\n",
    "names"
   ]
  },
  {
   "cell_type": "code",
   "execution_count": 32,
   "id": "6ac7c599",
   "metadata": {},
   "outputs": [
    {
     "data": {
      "text/plain": [
       "['red', 'blue', 'green']"
      ]
     },
     "execution_count": 32,
     "metadata": {},
     "output_type": "execute_result"
    }
   ],
   "source": [
    "colors"
   ]
  },
  {
   "cell_type": "code",
   "execution_count": 33,
   "id": "1460d290",
   "metadata": {},
   "outputs": [
    {
     "name": "stdout",
     "output_type": "stream",
     "text": [
      "['red', 'blue', 'green', 'yellow']\n"
     ]
    }
   ],
   "source": [
    "colors.append(\"yellow\")\n",
    "print(colors)"
   ]
  },
  {
   "cell_type": "code",
   "execution_count": 34,
   "id": "14e827b3",
   "metadata": {},
   "outputs": [
    {
     "data": {
      "text/plain": [
       "[1, 2, 45, 67, 89]"
      ]
     },
     "execution_count": 34,
     "metadata": {},
     "output_type": "execute_result"
    }
   ],
   "source": [
    "my_list"
   ]
  },
  {
   "cell_type": "code",
   "execution_count": 35,
   "id": "dfb04986",
   "metadata": {},
   "outputs": [
    {
     "data": {
      "text/plain": [
       "204"
      ]
     },
     "execution_count": 35,
     "metadata": {},
     "output_type": "execute_result"
    }
   ],
   "source": [
    "sum(my_list)"
   ]
  },
  {
   "cell_type": "code",
   "execution_count": 38,
   "id": "ab559d54",
   "metadata": {},
   "outputs": [
    {
     "data": {
      "text/plain": [
       "89"
      ]
     },
     "execution_count": 38,
     "metadata": {},
     "output_type": "execute_result"
    }
   ],
   "source": [
    "#finding maximum and minimum value\n",
    "max(my_list)\n"
   ]
  },
  {
   "cell_type": "code",
   "execution_count": 39,
   "id": "cdf5690c",
   "metadata": {},
   "outputs": [
    {
     "data": {
      "text/plain": [
       "1"
      ]
     },
     "execution_count": 39,
     "metadata": {},
     "output_type": "execute_result"
    }
   ],
   "source": [
    "min(my_list)"
   ]
  },
  {
   "cell_type": "code",
   "execution_count": 43,
   "id": "13abfa47",
   "metadata": {},
   "outputs": [
    {
     "name": "stdout",
     "output_type": "stream",
     "text": [
      "8\n",
      "[2, 4, 8, 6]\n",
      "[2, 8, 6]\n",
      "[2, 8, 6, 3]\n",
      "4.75\n"
     ]
    },
    {
     "data": {
      "text/plain": [
       "[2, 8, 6, 3]"
      ]
     },
     "execution_count": 43,
     "metadata": {},
     "output_type": "execute_result"
    }
   ],
   "source": [
    "# Exercise 3\n",
    "#Save a list with the numbers 2, 4, 6, and 8 into a variable called numbers.\n",
    "mynumberz = [2,4,6,8]\n",
    "#Print the max of numbers.\n",
    "print (max(mynumberz))\n",
    "#Pop the last element in numbers off; re-insert it at index 2.\n",
    "last_element = mynumberz.pop()\n",
    "mynumberz.insert(2,last_element)\n",
    "print(mynumberz)\n",
    "#Pop the second number in numbers off.\n",
    "mynumberz.pop(1)\n",
    "print(mynumberz)\n",
    "#Append 3 to numbers.\n",
    "mynumberz.append(3)\n",
    "print(mynumberz)\n",
    "#Print out the average number (divide the sum of numbers by the length).\n",
    "print(sum(mynumberz)/len(mynumberz))\n",
    "#Print numbers.\n",
    "mynumberz\n",
    "\n"
   ]
  },
  {
   "cell_type": "code",
   "execution_count": null,
   "id": "18ee6487",
   "metadata": {},
   "outputs": [],
   "source": []
  },
  {
   "cell_type": "code",
   "execution_count": null,
   "id": "eedb2635",
   "metadata": {},
   "outputs": [],
   "source": []
  },
  {
   "cell_type": "code",
   "execution_count": null,
   "id": "9883aece",
   "metadata": {},
   "outputs": [],
   "source": []
  },
  {
   "cell_type": "code",
   "execution_count": null,
   "id": "0f471897",
   "metadata": {},
   "outputs": [],
   "source": []
  }
 ],
 "metadata": {
  "kernelspec": {
   "display_name": "Python 3",
   "language": "python",
   "name": "python3"
  },
  "language_info": {
   "codemirror_mode": {
    "name": "ipython",
    "version": 3
   },
   "file_extension": ".py",
   "mimetype": "text/x-python",
   "name": "python",
   "nbconvert_exporter": "python",
   "pygments_lexer": "ipython3",
   "version": "3.8.8"
  }
 },
 "nbformat": 4,
 "nbformat_minor": 5
}
