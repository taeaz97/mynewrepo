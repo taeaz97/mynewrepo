{
 "cells": [
  {
   "cell_type": "code",
   "execution_count": 1,
   "id": "a9836cf6",
   "metadata": {},
   "outputs": [
    {
     "name": "stdout",
     "output_type": "stream",
     "text": [
      "dog <itertools._grouper object at 0x000001E256F05940>\n",
      "horse <itertools._grouper object at 0x000001E256F05EE0>\n",
      "dog <itertools._grouper object at 0x000001E256EF0430>\n"
     ]
    }
   ],
   "source": [
    "# itertools groupby\n",
    "import itertools # built in python\n",
    "\n",
    "animals = ['dog','dog','horse','horse','horse','dog']\n",
    "for key,group in itertools.groupby(animals):\n",
    "    print(key,group)"
   ]
  },
  {
   "cell_type": "code",
   "execution_count": 2,
   "id": "ee49ffe5",
   "metadata": {},
   "outputs": [
    {
     "name": "stdout",
     "output_type": "stream",
     "text": [
      "dog ['dog', 'dog']\n",
      "horse ['horse', 'horse', 'horse']\n",
      "dog ['dog']\n"
     ]
    }
   ],
   "source": [
    "animals = ['dog','dog','horse','horse','horse','dog']\n",
    "for key,group in itertools.groupby(animals):\n",
    "    print(key,list(group))"
   ]
  },
  {
   "cell_type": "code",
   "execution_count": 3,
   "id": "065c703c",
   "metadata": {},
   "outputs": [
    {
     "name": "stdout",
     "output_type": "stream",
     "text": [
      "dog ['dog', 'dog', 'dog']\n",
      "horse ['horse', 'horse', 'horse']\n"
     ]
    }
   ],
   "source": [
    "for key,group in itertools.groupby(sorted(animals)):\n",
    "    print(key,list(group))"
   ]
  },
  {
   "cell_type": "code",
   "execution_count": null,
   "id": "7109d975",
   "metadata": {},
   "outputs": [],
   "source": [
    "###################################################################################################"
   ]
  },
  {
   "cell_type": "code",
   "execution_count": 6,
   "id": "9bea1d3f",
   "metadata": {},
   "outputs": [],
   "source": [
    "things_tuple = [(\"animal\", \"wolf\"), (\"animal\", \"sparrow\"), (\"plant\", \"cactus\"), (\"vehicle\", \"yacht\"), \n",
    "                (\"vehicle\", \"school bus\"), (\"vehicle\", \"car\")]\n"
   ]
  },
  {
   "cell_type": "code",
   "execution_count": 10,
   "id": "7d151104",
   "metadata": {},
   "outputs": [
    {
     "name": "stdout",
     "output_type": "stream",
     "text": [
      "ANIMAL\n",
      "wolf is a type of animal\n",
      "sparrow is a type of animal\n",
      "\n",
      "\n",
      "PLANT\n",
      "cactus is a type of plant\n",
      "\n",
      "\n",
      "VEHICLE\n",
      "yacht is a type of vehicle\n",
      "school bus is a type of vehicle\n",
      "car is a type of vehicle\n",
      "\n",
      "\n"
     ]
    }
   ],
   "source": [
    "import operator\n",
    "sort_values = itertools.groupby(sorted(things_tuple,key=operator.itemgetter(0)),operator.itemgetter(0))\n",
    "\n",
    "for key,group in sort_values:\n",
    "    print(key.upper())\n",
    "    for item in group:\n",
    "    #print(key,list(group))\n",
    "        print(\"{} is a type of {}\".format(item[1],key))\n",
    "    print('\\n')"
   ]
  },
  {
   "cell_type": "code",
   "execution_count": null,
   "id": "ffc4820b",
   "metadata": {},
   "outputs": [],
   "source": [
    "##################################################################################################"
   ]
  },
  {
   "cell_type": "code",
   "execution_count": 11,
   "id": "76976f3e",
   "metadata": {},
   "outputs": [
    {
     "name": "stdout",
     "output_type": "stream",
     "text": [
      "['Pizza', 'salad', 'burger', 'red', 'green', 0, 1, 2, 3]\n"
     ]
    }
   ],
   "source": [
    "# itertools .chain => chain lists together\n",
    "food = ['Pizza', 'salad','burger']\n",
    "colors = ['red', 'green']\n",
    "numbers = list(range(4))\n",
    "\n",
    "chained = list(itertools.chain(food,colors,numbers))\n",
    "print(chained)"
   ]
  },
  {
   "cell_type": "code",
   "execution_count": 12,
   "id": "6c79633a",
   "metadata": {},
   "outputs": [
    {
     "data": {
      "text/plain": [
       "['Pizza', 'salad', 'burger', 'red', 'green', 0, 1, 2, 3]"
      ]
     },
     "execution_count": 12,
     "metadata": {},
     "output_type": "execute_result"
    }
   ],
   "source": [
    "food + colors + numbers"
   ]
  },
  {
   "cell_type": "code",
   "execution_count": 15,
   "id": "903d2c2a",
   "metadata": {},
   "outputs": [],
   "source": [
    "hobbies = { 'pes2021':'prem', 'programming':'deeban',\n",
    "          'sleeping':'prem'}\n"
   ]
  },
  {
   "cell_type": "code",
   "execution_count": 17,
   "id": "d2062eef",
   "metadata": {},
   "outputs": [
    {
     "name": "stdout",
     "output_type": "stream",
     "text": [
      "['pes2021', 'programming', 'sleeping', 'red', 'green']\n"
     ]
    }
   ],
   "source": [
    "chained_item=list(itertools.chain(hobbies,colors))\n",
    "print(chained_item)"
   ]
  },
  {
   "cell_type": "code",
   "execution_count": 18,
   "id": "45f842ca",
   "metadata": {},
   "outputs": [
    {
     "name": "stdout",
     "output_type": "stream",
     "text": [
      "[1, 3, 6, 10, 15]\n"
     ]
    }
   ],
   "source": [
    "numbers = [1,2,3,4,5]\n",
    "\n",
    "results = list(itertools.accumulate(numbers))\n",
    "print(results) # 1+2 , (1+2)+3, ...."
   ]
  },
  {
   "cell_type": "code",
   "execution_count": 19,
   "id": "d78afd21",
   "metadata": {},
   "outputs": [
    {
     "name": "stdout",
     "output_type": "stream",
     "text": [
      "15\n"
     ]
    }
   ],
   "source": [
    "sum_numbers = results[-1] # getting the last value in the list\n",
    "print(sum_numbers)"
   ]
  },
  {
   "cell_type": "code",
   "execution_count": null,
   "id": "0762352d",
   "metadata": {},
   "outputs": [],
   "source": [
    "########################################################################"
   ]
  },
  {
   "cell_type": "code",
   "execution_count": 22,
   "id": "a4ca5a98",
   "metadata": {},
   "outputs": [
    {
     "data": {
      "text/plain": [
       "6"
      ]
     },
     "execution_count": 22,
     "metadata": {},
     "output_type": "execute_result"
    }
   ],
   "source": [
    "import random \n",
    "random.randint(1,6)"
   ]
  },
  {
   "cell_type": "code",
   "execution_count": 24,
   "id": "2f55a813",
   "metadata": {},
   "outputs": [
    {
     "data": {
      "text/plain": [
       "0.8744068021474178"
      ]
     },
     "execution_count": 24,
     "metadata": {},
     "output_type": "execute_result"
    }
   ],
   "source": [
    "random.random() # random value between 0 and 1"
   ]
  },
  {
   "cell_type": "code",
   "execution_count": 26,
   "id": "fb857f4d",
   "metadata": {},
   "outputs": [
    {
     "name": "stdout",
     "output_type": "stream",
     "text": [
      "afiq wins extra 5 minutes break\n"
     ]
    }
   ],
   "source": [
    "people_in_class = ['prem','deeban','adilah','afiq','syafiq','vun gin']\n",
    "lottery_winner = random.choice(people_in_class)\n",
    "print(lottery_winner,\"wins extra 5 minutes break\")"
   ]
  },
  {
   "cell_type": "code",
   "execution_count": null,
   "id": "1fbd76ad",
   "metadata": {},
   "outputs": [],
   "source": [
    "########################################################################"
   ]
  },
  {
   "cell_type": "code",
   "execution_count": 27,
   "id": "ba49dead",
   "metadata": {},
   "outputs": [
    {
     "ename": "ModuleNotFoundError",
     "evalue": "No module named 'pytime'",
     "output_type": "error",
     "traceback": [
      "\u001b[1;31m---------------------------------------------------------------------------\u001b[0m",
      "\u001b[1;31mModuleNotFoundError\u001b[0m                       Traceback (most recent call last)",
      "\u001b[1;32m<ipython-input-27-22a80ad374d5>\u001b[0m in \u001b[0;36m<module>\u001b[1;34m\u001b[0m\n\u001b[1;32m----> 1\u001b[1;33m \u001b[1;32mimport\u001b[0m \u001b[0mpytime\u001b[0m\u001b[1;33m\u001b[0m\u001b[1;33m\u001b[0m\u001b[0m\n\u001b[0m",
      "\u001b[1;31mModuleNotFoundError\u001b[0m: No module named 'pytime'"
     ]
    }
   ],
   "source": []
  },
  {
   "cell_type": "code",
   "execution_count": 36,
   "id": "37c744a2",
   "metadata": {},
   "outputs": [],
   "source": [
    "import pytime\n",
    "from pytime import pytime"
   ]
  },
  {
   "cell_type": "code",
   "execution_count": 38,
   "id": "a084cc0f",
   "metadata": {},
   "outputs": [],
   "source": [
    "#get mothers day in year 2019\n",
    "mothers_day_2019 = pytime.mother(2019)"
   ]
  },
  {
   "cell_type": "code",
   "execution_count": 39,
   "id": "4629365b",
   "metadata": {},
   "outputs": [
    {
     "data": {
      "text/plain": [
       "datetime.date(2019, 5, 12)"
      ]
     },
     "execution_count": 39,
     "metadata": {},
     "output_type": "execute_result"
    }
   ],
   "source": [
    "mothers_day_2019"
   ]
  },
  {
   "cell_type": "code",
   "execution_count": 44,
   "id": "5b562f34",
   "metadata": {},
   "outputs": [],
   "source": [
    "last_day=pytime.last_day(month=12)"
   ]
  },
  {
   "cell_type": "code",
   "execution_count": 45,
   "id": "423becc6",
   "metadata": {},
   "outputs": [
    {
     "data": {
      "text/plain": [
       "datetime.date(2021, 12, 31)"
      ]
     },
     "execution_count": 45,
     "metadata": {},
     "output_type": "execute_result"
    }
   ],
   "source": [
    "last_day"
   ]
  },
  {
   "cell_type": "code",
   "execution_count": 47,
   "id": "38a76f12",
   "metadata": {},
   "outputs": [
    {
     "data": {
      "text/plain": [
       "datetime.date(2022, 1, 14)"
      ]
     },
     "execution_count": 47,
     "metadata": {},
     "output_type": "execute_result"
    }
   ],
   "source": [
    "from datetime import timedelta\n",
    "duration =timedelta(hours=2,days=14)\n",
    "\n",
    "last_day + duration"
   ]
  },
  {
   "cell_type": "code",
   "execution_count": 48,
   "id": "29624e64",
   "metadata": {},
   "outputs": [],
   "source": [
    "from datetime import datetime\n",
    "now = datetime.now()"
   ]
  },
  {
   "cell_type": "code",
   "execution_count": 49,
   "id": "04bbc900",
   "metadata": {},
   "outputs": [
    {
     "data": {
      "text/plain": [
       "datetime.datetime(2021, 7, 15, 19, 3, 17, 509880)"
      ]
     },
     "execution_count": 49,
     "metadata": {},
     "output_type": "execute_result"
    }
   ],
   "source": [
    "now"
   ]
  },
  {
   "cell_type": "code",
   "execution_count": 50,
   "id": "30747474",
   "metadata": {},
   "outputs": [
    {
     "data": {
      "text/plain": [
       "datetime.datetime(2021, 7, 29, 21, 3, 17, 509880)"
      ]
     },
     "execution_count": 50,
     "metadata": {},
     "output_type": "execute_result"
    }
   ],
   "source": [
    "now + duration"
   ]
  },
  {
   "cell_type": "code",
   "execution_count": 53,
   "id": "d77ab3e3",
   "metadata": {},
   "outputs": [
    {
     "data": {
      "text/plain": [
       "[1, 3, 5, 11, 13]"
      ]
     },
     "execution_count": 53,
     "metadata": {},
     "output_type": "execute_result"
    }
   ],
   "source": [
    "# list comprehensions\n",
    "numbers=[1,3,5,11,13]\n",
    "numbers"
   ]
  },
  {
   "cell_type": "code",
   "execution_count": 54,
   "id": "c392ba49",
   "metadata": {},
   "outputs": [
    {
     "data": {
      "text/plain": [
       "[1, 9, 25, 121, 169]"
      ]
     },
     "execution_count": 54,
     "metadata": {},
     "output_type": "execute_result"
    }
   ],
   "source": [
    "squares_1 = []\n",
    "for number in numbers:\n",
    "    squares_1.append(number**2)\n",
    "squares_1\n"
   ]
  },
  {
   "cell_type": "code",
   "execution_count": 55,
   "id": "2446c7b0",
   "metadata": {},
   "outputs": [
    {
     "data": {
      "text/plain": [
       "[1, 9, 25, 121, 169]"
      ]
     },
     "execution_count": 55,
     "metadata": {},
     "output_type": "execute_result"
    }
   ],
   "source": [
    "squares_2 = [number**2 for number in numbers ]\n",
    "squares_2"
   ]
  },
  {
   "cell_type": "code",
   "execution_count": 57,
   "id": "58db9c44",
   "metadata": {},
   "outputs": [
    {
     "data": {
      "text/plain": [
       "[4, 16, 36]"
      ]
     },
     "execution_count": 57,
     "metadata": {},
     "output_type": "execute_result"
    }
   ],
   "source": [
    "#square only even numbers\n",
    "numbers = [1,2,3,4,5,6,7]\n",
    "squares_1 = []\n",
    "for number in numbers:\n",
    "    if number %2 == 0:\n",
    "        squares_1.append(number**2)\n",
    "squares_1"
   ]
  },
  {
   "cell_type": "code",
   "execution_count": 58,
   "id": "cea2f7a9",
   "metadata": {},
   "outputs": [
    {
     "data": {
      "text/plain": [
       "[4, 16, 36]"
      ]
     },
     "execution_count": 58,
     "metadata": {},
     "output_type": "execute_result"
    }
   ],
   "source": [
    "squares_3 = [number**2 for number in numbers if number %2 ==0]\n",
    "squares_3"
   ]
  },
  {
   "cell_type": "code",
   "execution_count": 59,
   "id": "aefd188d",
   "metadata": {},
   "outputs": [
    {
     "data": {
      "text/plain": [
       "[0, 1, 4, 9, 16, 25, 36, 49, 64, 81]"
      ]
     },
     "execution_count": 59,
     "metadata": {},
     "output_type": "execute_result"
    }
   ],
   "source": [
    "# square numbers in range (0,10) and store in list\n",
    "[x**2 for x in range(0,10)]\n"
   ]
  },
  {
   "cell_type": "code",
   "execution_count": 60,
   "id": "8b1c093e",
   "metadata": {},
   "outputs": [
    {
     "data": {
      "text/plain": [
       "['C', 'a', 'l', 'o', 't', 'f', 'l', 'o', 'e', 'f', 'l', 'i', 's']"
      ]
     },
     "execution_count": 60,
     "metadata": {},
     "output_type": "execute_result"
    }
   ],
   "source": [
    "st = 'Create a list of the first letters of every first letter in string'\n",
    "\n",
    "[x[0] for x in st.split()]"
   ]
  },
  {
   "cell_type": "code",
   "execution_count": 61,
   "id": "ffd811d0",
   "metadata": {},
   "outputs": [
    {
     "data": {
      "text/plain": [
       "['Create',\n",
       " 'a',\n",
       " 'list',\n",
       " 'of',\n",
       " 'the',\n",
       " 'first',\n",
       " 'letters',\n",
       " 'of',\n",
       " 'every',\n",
       " 'first',\n",
       " 'letter',\n",
       " 'in',\n",
       " 'string']"
      ]
     },
     "execution_count": 61,
     "metadata": {},
     "output_type": "execute_result"
    }
   ],
   "source": [
    "st.split()"
   ]
  },
  {
   "cell_type": "code",
   "execution_count": 62,
   "id": "227c2c0c",
   "metadata": {},
   "outputs": [
    {
     "data": {
      "text/plain": [
       "['create ', 'a ', 'list', 'of', 'words', 'here']"
      ]
     },
     "execution_count": 62,
     "metadata": {},
     "output_type": "execute_result"
    }
   ],
   "source": [
    "st_2 = 'create |a |list|of|words|here'\n",
    "st_2.split(\"|\")"
   ]
  },
  {
   "cell_type": "code",
   "execution_count": 63,
   "id": "e4207c2a",
   "metadata": {},
   "outputs": [],
   "source": [
    "a = [1,2,4]\n",
    "b = ['one','two','four']"
   ]
  },
  {
   "cell_type": "code",
   "execution_count": 64,
   "id": "3d251aed",
   "metadata": {},
   "outputs": [
    {
     "data": {
      "text/plain": [
       "[(1, 'one'), (2, 'two'), (4, 'four')]"
      ]
     },
     "execution_count": 64,
     "metadata": {},
     "output_type": "execute_result"
    }
   ],
   "source": [
    "[x for x in zip(a,b)] # inserting first list into second list by index, 0-0,1-1\n"
   ]
  },
  {
   "cell_type": "code",
   "execution_count": 65,
   "id": "42e17a82",
   "metadata": {},
   "outputs": [
    {
     "data": {
      "text/plain": [
       "{'one': 1, 'two': 2, 'four': 4}"
      ]
     },
     "execution_count": 65,
     "metadata": {},
     "output_type": "execute_result"
    }
   ],
   "source": [
    "{y:x for x,y in zip(a,b)}"
   ]
  },
  {
   "cell_type": "code",
   "execution_count": 67,
   "id": "3a42d9b9",
   "metadata": {},
   "outputs": [
    {
     "name": "stdout",
     "output_type": "stream",
     "text": [
      "[2, 4, 5]\n",
      "[23, 65, 78]\n",
      "[0, 1, 2]\n"
     ]
    }
   ],
   "source": [
    "a = [ 2, 4 , 5 ]\n",
    "b = [ 23 , 65 , 78 ]\n",
    "c=  list (range( 0 , 3 ) )\n",
    "\n",
    "print(a)\n",
    "print(b)\n",
    "print(c)"
   ]
  },
  {
   "cell_type": "code",
   "execution_count": 68,
   "id": "fce13a75",
   "metadata": {},
   "outputs": [
    {
     "data": {
      "text/plain": [
       "[(2, 23, 0), (4, 65, 1), (5, 78, 2)]"
      ]
     },
     "execution_count": 68,
     "metadata": {},
     "output_type": "execute_result"
    }
   ],
   "source": [
    "[x for x in zip(a,b,c)]"
   ]
  },
  {
   "cell_type": "code",
   "execution_count": 69,
   "id": "6e2b8b07",
   "metadata": {},
   "outputs": [
    {
     "data": {
      "text/plain": [
       "[{'student_no ': 2, 'student_age': 23, 'student_lucky_number': 0},\n",
       " {'student_no ': 4, 'student_age': 65, 'student_lucky_number': 1},\n",
       " {'student_no ': 5, 'student_age': 78, 'student_lucky_number': 2}]"
      ]
     },
     "execution_count": 69,
     "metadata": {},
     "output_type": "execute_result"
    }
   ],
   "source": [
    "[{'student_no ':x,'student_age':y,'student_lucky_number':z}for x,y,z in zip(a,b,c)]"
   ]
  },
  {
   "cell_type": "code",
   "execution_count": 70,
   "id": "81f44b25",
   "metadata": {},
   "outputs": [],
   "source": [
    "#file I/O\n",
    "with open('test.txt','w')as f:\n",
    "    f.write(\"This is a file that I created\")\n",
    "    f.write('\\nThis is a second line in this text')"
   ]
  },
  {
   "cell_type": "code",
   "execution_count": 71,
   "id": "95635ab3",
   "metadata": {},
   "outputs": [
    {
     "name": "stdout",
     "output_type": "stream",
     "text": [
      "This is a file that I created\n",
      "\n",
      "This is a second line in this text\n"
     ]
    }
   ],
   "source": [
    "with open('test.txt','r') as f : # f is juat a name, can name it anything\n",
    "    for line in f:\n",
    "        print(line)"
   ]
  },
  {
   "cell_type": "code",
   "execution_count": 73,
   "id": "12676a5e",
   "metadata": {},
   "outputs": [],
   "source": [
    "filename = 'many_lines.txt'\n",
    "\n",
    "with open (filename, 'w') as f :\n",
    "    f.write(\"Here are some example text ...\\n\")\n",
    "    n=5\n",
    "    f.write(\"The value of n is {}\".format(n))\n",
    "    \n",
    "    f.write ('\\nThe lyrics to 50 songs: \\n')\n",
    "    for i in range(50):\n",
    "        f.write(\"This is sample line code:{}\\n\".format(i))"
   ]
  },
  {
   "cell_type": "code",
   "execution_count": null,
   "id": "fab95348",
   "metadata": {},
   "outputs": [],
   "source": [
    "with open(filename,'r')as input_file:\n",
    "    file_contents = input_file.read"
   ]
  },
  {
   "cell_type": "code",
   "execution_count": null,
   "id": "78e6f920",
   "metadata": {},
   "outputs": [],
   "source": []
  },
  {
   "cell_type": "code",
   "execution_count": 74,
   "id": "0520764b",
   "metadata": {},
   "outputs": [],
   "source": [
    "import csv\n",
    "with open('example.csv','w')as f :\n",
    "    writer = csv.writer(f)\n",
    "    writer.writerow(['Year','Make','Price'])\n",
    "    writer.writerow(['2019','BMW','RM 256,000'])\n",
    "    writer.writerow(['2009','Toyota','RM 15,000'])\n",
    "    writer.writerow(['2000','Honda','RM 34,000'])\n"
   ]
  },
  {
   "cell_type": "code",
   "execution_count": 75,
   "id": "9ec5978a",
   "metadata": {},
   "outputs": [
    {
     "name": "stdout",
     "output_type": "stream",
     "text": [
      "['Year', 'Make', 'Price']\n",
      "[]\n",
      "['2019', 'BMW', 'RM 256,000']\n",
      "[]\n",
      "['2009', 'Toyota', 'RM 15,000']\n",
      "[]\n",
      "['2000', 'Honda', 'RM 34,000']\n",
      "[]\n"
     ]
    }
   ],
   "source": [
    "with open('example.csv','r') as f :\n",
    "    reader = csv.reader(f)\n",
    "    for i in reader:\n",
    "        print(i)\n",
    "    "
   ]
  },
  {
   "cell_type": "code",
   "execution_count": null,
   "id": "515f2f01",
   "metadata": {},
   "outputs": [],
   "source": []
  },
  {
   "cell_type": "code",
   "execution_count": null,
   "id": "3ee73b72",
   "metadata": {},
   "outputs": [],
   "source": []
  },
  {
   "cell_type": "code",
   "execution_count": null,
   "id": "bc8a1206",
   "metadata": {},
   "outputs": [],
   "source": []
  },
  {
   "cell_type": "code",
   "execution_count": null,
   "id": "1550636e",
   "metadata": {},
   "outputs": [],
   "source": []
  },
  {
   "cell_type": "code",
   "execution_count": null,
   "id": "4903f4ec",
   "metadata": {},
   "outputs": [],
   "source": []
  },
  {
   "cell_type": "code",
   "execution_count": null,
   "id": "b06f547f",
   "metadata": {},
   "outputs": [],
   "source": []
  }
 ],
 "metadata": {
  "kernelspec": {
   "display_name": "Python 3",
   "language": "python",
   "name": "python3"
  },
  "language_info": {
   "codemirror_mode": {
    "name": "ipython",
    "version": 3
   },
   "file_extension": ".py",
   "mimetype": "text/x-python",
   "name": "python",
   "nbconvert_exporter": "python",
   "pygments_lexer": "ipython3",
   "version": "3.8.8"
  }
 },
 "nbformat": 4,
 "nbformat_minor": 5
}
